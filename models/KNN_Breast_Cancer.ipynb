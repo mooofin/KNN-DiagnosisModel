{
 "cells": [
  {
   "cell_type": "code",
   "execution_count": null,
   "id": "cc8c0ae9-6c02-41e4-9b25-3a9d7bd3c6ef",
   "metadata": {},
   "outputs": [],
   "source": [
    "Breast Cancer Classification Using K-Nearest Neighbors (KNN)\n",
    "Objective\n",
    "This notebook demonstrates the application of the K-Nearest Neighbors (KNN) algorithm to classify breast cancer tumors as Malignant (M) or Benign (B). The workflow includes:\n",
    "\n",
    "Loading and exploring the dataset\n",
    "\n",
    "Preprocessing the data\n",
    "\n",
    "Training a KNN model\n",
    "\n",
    "Saving the trained model\n",
    "\n",
    "Loading the saved model for inference\n",
    "\n",
    "Evaluating model performance on new data\n",
    "\n"
   ]
  },
  {
   "cell_type": "code",
   "execution_count": 2,
   "id": "96918835-f5fa-4b37-8758-698a0416937d",
   "metadata": {},
   "outputs": [
    {
     "name": "stdout",
     "output_type": "stream",
     "text": [
      "Requirement already satisfied: numpy in c:\\users\\siddharth u\\appdata\\local\\programs\\python\\python313\\lib\\site-packages (2.2.3)\n",
      "Requirement already satisfied: pandas in c:\\users\\siddharth u\\appdata\\local\\programs\\python\\python313\\lib\\site-packages (2.2.3)\n",
      "Requirement already satisfied: matplotlib in c:\\users\\siddharth u\\appdata\\local\\programs\\python\\python313\\lib\\site-packages (3.10.1)\n",
      "Requirement already satisfied: seaborn in c:\\users\\siddharth u\\appdata\\local\\programs\\python\\python313\\lib\\site-packages (0.13.2)\n",
      "Requirement already satisfied: scikit-learn in c:\\users\\siddharth u\\appdata\\local\\programs\\python\\python313\\lib\\site-packages (1.6.1)\n",
      "Requirement already satisfied: python-dateutil>=2.8.2 in c:\\users\\siddharth u\\appdata\\local\\programs\\python\\python313\\lib\\site-packages (from pandas) (2.9.0.post0)\n",
      "Requirement already satisfied: pytz>=2020.1 in c:\\users\\siddharth u\\appdata\\local\\programs\\python\\python313\\lib\\site-packages (from pandas) (2025.1)\n",
      "Requirement already satisfied: tzdata>=2022.7 in c:\\users\\siddharth u\\appdata\\local\\programs\\python\\python313\\lib\\site-packages (from pandas) (2025.2)\n",
      "Requirement already satisfied: contourpy>=1.0.1 in c:\\users\\siddharth u\\appdata\\local\\programs\\python\\python313\\lib\\site-packages (from matplotlib) (1.3.1)\n",
      "Requirement already satisfied: cycler>=0.10 in c:\\users\\siddharth u\\appdata\\local\\programs\\python\\python313\\lib\\site-packages (from matplotlib) (0.12.1)\n",
      "Requirement already satisfied: fonttools>=4.22.0 in c:\\users\\siddharth u\\appdata\\local\\programs\\python\\python313\\lib\\site-packages (from matplotlib) (4.56.0)\n",
      "Requirement already satisfied: kiwisolver>=1.3.1 in c:\\users\\siddharth u\\appdata\\local\\programs\\python\\python313\\lib\\site-packages (from matplotlib) (1.4.8)\n",
      "Requirement already satisfied: packaging>=20.0 in c:\\users\\siddharth u\\appdata\\local\\programs\\python\\python313\\lib\\site-packages (from matplotlib) (24.2)\n",
      "Requirement already satisfied: pillow>=8 in c:\\users\\siddharth u\\appdata\\local\\programs\\python\\python313\\lib\\site-packages (from matplotlib) (11.1.0)\n",
      "Requirement already satisfied: pyparsing>=2.3.1 in c:\\users\\siddharth u\\appdata\\local\\programs\\python\\python313\\lib\\site-packages (from matplotlib) (3.2.3)\n",
      "Requirement already satisfied: scipy>=1.6.0 in c:\\users\\siddharth u\\appdata\\local\\programs\\python\\python313\\lib\\site-packages (from scikit-learn) (1.15.2)\n",
      "Requirement already satisfied: joblib>=1.2.0 in c:\\users\\siddharth u\\appdata\\local\\programs\\python\\python313\\lib\\site-packages (from scikit-learn) (1.4.2)\n",
      "Requirement already satisfied: threadpoolctl>=3.1.0 in c:\\users\\siddharth u\\appdata\\local\\programs\\python\\python313\\lib\\site-packages (from scikit-learn) (3.6.0)\n",
      "Requirement already satisfied: six>=1.5 in c:\\users\\siddharth u\\appdata\\local\\programs\\python\\python313\\lib\\site-packages (from python-dateutil>=2.8.2->pandas) (1.17.0)\n"
     ]
    }
   ],
   "source": [
    "!pip install numpy pandas matplotlib seaborn scikit-learn\n"
   ]
  },
  {
   "cell_type": "code",
   "execution_count": 4,
   "id": "454e0ba6-1072-4ed7-9266-c9fe282ca9a5",
   "metadata": {},
   "outputs": [
    {
     "name": "stdout",
     "output_type": "stream",
     "text": [
      "Model Accuracy: 0.94\n"
     ]
    }
   ],
   "source": [
    "import numpy as np\n",
    "import pandas as pd\n",
    "import matplotlib.pyplot as plt\n",
    "import seaborn as sns\n",
    "from sklearn.model_selection import train_test_split\n",
    "from sklearn.neighbors import KNeighborsClassifier\n",
    "import joblib  # For saving & loading model\n",
    "\n",
    "\n",
    "df = pd.read_csv(\"C:\\\\Users\\\\SIDDHARTH U\\\\Downloads\\\\data.csv\")\n",
    "\n",
    "\n",
    "df.drop(['Unnamed: 32', 'id'], axis=1, inplace=True)\n",
    "\n",
    "\n",
    "df['diagnosis'] = df['diagnosis'].apply(lambda x: 1 if x == \"M\" else 0)\n",
    "\n",
    "\n",
    "X = df.iloc[:, 1:].values\n",
    "y = df['diagnosis'].values\n",
    "\n",
    "X_train, X_test, y_train, y_test = train_test_split(X, y, test_size=0.33, random_state=10)\n",
    "\n",
    "\n",
    "knn = KNeighborsClassifier(n_neighbors=9)\n",
    "knn.fit(X_train, y_train)\n",
    "\n",
    "\n",
    "accuracy = knn.score(X_test, y_test)\n",
    "print(f\"Model Accuracy: {accuracy:.2f}\")\n"
   ]
  },
  {
   "cell_type": "code",
   "execution_count": 5,
   "id": "3d62f316-2c51-4b97-b235-9f1c91ff506a",
   "metadata": {},
   "outputs": [
    {
     "name": "stdout",
     "output_type": "stream",
     "text": [
      "Model saved as knn_model.pkl\n"
     ]
    }
   ],
   "source": [
    "joblib.dump(knn, \"knn_model.pkl\")\n",
    "print(\"Model saved as knn_model.pkl\")\n"
   ]
  },
  {
   "cell_type": "code",
   "execution_count": 6,
   "id": "e24e45a5-4115-4dd9-beda-585e0d00c852",
   "metadata": {},
   "outputs": [
    {
     "name": "stdout",
     "output_type": "stream",
     "text": [
      "Model Loaded Successfully!\n",
      "Predictions: [1 0 0 1 0]\n",
      "Actual Labels: [1 0 0 1 0]\n"
     ]
    }
   ],
   "source": [
    "# Load the saved model\n",
    "knn_loaded = joblib.load(\"knn_model.pkl\")\n",
    "print(\"Model Loaded Successfully!\")\n",
    "\n",
    "# Example: Predict on new data\n",
    "new_data = X_test[:5]  # Take 5 samples from test data\n",
    "predictions = knn_loaded.predict(new_data)\n",
    "\n",
    "print(\"Predictions:\", predictions)\n",
    "print(\"Actual Labels:\", y_test[:5])\n"
   ]
  },
  {
   "cell_type": "code",
   "execution_count": null,
   "id": "b68117bd-7ab2-4b57-b992-2a8243b143a6",
   "metadata": {},
   "outputs": [],
   "source": []
  }
 ],
 "metadata": {
  "kernelspec": {
   "display_name": "Python 3 (ipykernel)",
   "language": "python",
   "name": "python3"
  },
  "language_info": {
   "codemirror_mode": {
    "name": "ipython",
    "version": 3
   },
   "file_extension": ".py",
   "mimetype": "text/x-python",
   "name": "python",
   "nbconvert_exporter": "python",
   "pygments_lexer": "ipython3",
   "version": "3.13.1"
  }
 },
 "nbformat": 4,
 "nbformat_minor": 5
}
